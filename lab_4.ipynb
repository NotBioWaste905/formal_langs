{
 "cells": [
  {
   "cell_type": "markdown",
   "id": "1050f4bb",
   "metadata": {},
   "source": [
    "# Снятие омонимии на корпусе Taiga"
   ]
  },
  {
   "cell_type": "code",
   "execution_count": 1,
   "id": "e7555190",
   "metadata": {},
   "outputs": [],
   "source": [
    "import random\n",
    "from glob import glob\n",
    "from conllu import parse\n",
    "from tqdm import tqdm"
   ]
  },
  {
   "cell_type": "code",
   "execution_count": 2,
   "id": "c1f121fd",
   "metadata": {},
   "outputs": [
    {
     "data": {
      "text/plain": [
       "7696"
      ]
     },
     "execution_count": 2,
     "metadata": {},
     "output_type": "execute_result"
    }
   ],
   "source": [
    "text_files = glob('NPlus1/home/tsha/NPlus1/tagged_texts/*.txt')\n",
    "len(text_files)"
   ]
  },
  {
   "cell_type": "code",
   "execution_count": 3,
   "id": "c6e3a993",
   "metadata": {},
   "outputs": [
    {
     "name": "stderr",
     "output_type": "stream",
     "text": [
      "100%|██████████| 7696/7696 [00:29<00:00, 265.25it/s]"
     ]
    },
    {
     "name": "stdout",
     "output_type": "stream",
     "text": [
      "90126\n"
     ]
    },
    {
     "name": "stderr",
     "output_type": "stream",
     "text": [
      "\n"
     ]
    }
   ],
   "source": [
    "dataset = []\n",
    "\n",
    "for text_file in tqdm(text_files):\n",
    "    with open(text_file, 'r', encoding='utf-8') as f:\n",
    "        text = f.read()\n",
    "        sentences = parse(text)\n",
    "        for sent in sentences:\n",
    "            sample = []\n",
    "            for i in sent:\n",
    "                sample.append((i['form'].lower(), i['upos']))\n",
    "            dataset.append(sample)\n",
    "\n",
    "print(len(dataset))"
   ]
  },
  {
   "cell_type": "code",
   "execution_count": 4,
   "id": "d8dc7a82",
   "metadata": {},
   "outputs": [
    {
     "name": "stdout",
     "output_type": "stream",
     "text": [
      "10227\n"
     ]
    }
   ],
   "source": [
    "omonimous_words = set()\n",
    "vocab = {}\n",
    "for sample in dataset:\n",
    "    for word, pos in sample:\n",
    "        if word not in vocab:\n",
    "            vocab[word] = set()\n",
    "        vocab[word].add(pos)\n",
    "        if len(vocab[word]) > 1:\n",
    "            omonimous_words.add(word)\n",
    "\n",
    "print(len(omonimous_words))"
   ]
  },
  {
   "cell_type": "code",
   "execution_count": 5,
   "id": "7e1c168e",
   "metadata": {},
   "outputs": [],
   "source": [
    "words = list(vocab.keys())\n",
    "pos_tags = set()\n",
    "for word in words:\n",
    "    pos_tags.update(vocab[word])\n",
    "pos_tags = list(pos_tags)\n",
    "pos_tags.append(\"MASK\")"
   ]
  },
  {
   "cell_type": "code",
   "execution_count": 6,
   "id": "4bf7e10b",
   "metadata": {},
   "outputs": [],
   "source": [
    "words_ids = {word: i for i, word in enumerate(words)}\n",
    "pos_tags_ids = {pos: i for i, pos in enumerate(pos_tags)}"
   ]
  },
  {
   "cell_type": "code",
   "execution_count": 7,
   "id": "ed0a022e",
   "metadata": {},
   "outputs": [
    {
     "data": {
      "text/plain": [
       "{'INTJ': 0,\n",
       " 'PROPN': 1,\n",
       " 'PART': 2,\n",
       " 'NUM': 3,\n",
       " 'ADV': 4,\n",
       " 'NOUN': 5,\n",
       " 'AUX': 6,\n",
       " 'ADP': 7,\n",
       " 'VERB': 8,\n",
       " 'DET': 9,\n",
       " 'PRON': 10,\n",
       " 'X': 11,\n",
       " 'ADJ': 12,\n",
       " 'PUNCT': 13,\n",
       " 'SYM': 14,\n",
       " 'SCONJ': 15,\n",
       " 'CCONJ': 16,\n",
       " 'MASK': 17}"
      ]
     },
     "execution_count": 7,
     "metadata": {},
     "output_type": "execute_result"
    }
   ],
   "source": [
    "pos_tags_ids"
   ]
  },
  {
   "cell_type": "code",
   "execution_count": 8,
   "id": "fc02e9f2",
   "metadata": {},
   "outputs": [
    {
     "name": "stderr",
     "output_type": "stream",
     "text": [
      "100%|██████████| 90126/90126 [00:02<00:00, 37541.84it/s]\n"
     ]
    }
   ],
   "source": [
    "tokenized_dataset = []\n",
    "\n",
    "for sample in tqdm(dataset):\n",
    "    tokenized_sample = []\n",
    "    for word, pos in sample:\n",
    "        tokenized_sample.append([words_ids[word], pos_tags_ids[pos]])\n",
    "    tokenized_dataset.append(tokenized_sample)"
   ]
  },
  {
   "cell_type": "code",
   "execution_count": 9,
   "id": "7b1b42ba",
   "metadata": {},
   "outputs": [
    {
     "data": {
      "text/plain": [
       "[[0, 12],\n",
       " [1, 5],\n",
       " [2, 13],\n",
       " [3, 12],\n",
       " [4, 5],\n",
       " [5, 1],\n",
       " [6, 8],\n",
       " [7, 9],\n",
       " [8, 5],\n",
       " [9, 5],\n",
       " [10, 13],\n",
       " [11, 1],\n",
       " [10, 13],\n",
       " [12, 13],\n",
       " [13, 15],\n",
       " [14, 12],\n",
       " [15, 5],\n",
       " [16, 9],\n",
       " [17, 5],\n",
       " [18, 7],\n",
       " [19, 5],\n",
       " [20, 5],\n",
       " [21, 13]]"
      ]
     },
     "execution_count": 9,
     "metadata": {},
     "output_type": "execute_result"
    }
   ],
   "source": [
    "tokenized_dataset[0]"
   ]
  },
  {
   "cell_type": "code",
   "execution_count": 10,
   "id": "0db23c67",
   "metadata": {},
   "outputs": [],
   "source": [
    "def mask_omonimous_word(sample, probability=0.1):\n",
    "    masked_sample = []\n",
    "    for word, pos in sample:\n",
    "        if words[word] in omonimous_words and random.random() < probability:\n",
    "            masked_sample.append([word, 17])  # -1 indicates a masked POS tag\n",
    "        else:\n",
    "            masked_sample.append([word, pos])\n",
    "    return masked_sample"
   ]
  },
  {
   "cell_type": "code",
   "execution_count": 11,
   "id": "d47ed742",
   "metadata": {},
   "outputs": [
    {
     "name": "stderr",
     "output_type": "stream",
     "text": [
      "100%|██████████| 90126/90126 [00:01<00:00, 57249.66it/s] \n"
     ]
    }
   ],
   "source": [
    "dataset_masked = []\n",
    "for sample in tqdm(tokenized_dataset):\n",
    "    masked_sample = mask_omonimous_word(sample)\n",
    "    dataset_masked.append(masked_sample)"
   ]
  },
  {
   "cell_type": "code",
   "execution_count": 12,
   "id": "4fab3274",
   "metadata": {},
   "outputs": [
    {
     "name": "stdout",
     "output_type": "stream",
     "text": [
      "Train size: 72100, Test size: 18026\n"
     ]
    }
   ],
   "source": [
    "dataset_train, dataset_test = dataset_masked[:int(0.8 * len(dataset_masked))], dataset_masked[int(0.8 * len(dataset_masked)):]\n",
    "print(f'Train size: {len(dataset_train)}, Test size: {len(dataset_test)}')"
   ]
  },
  {
   "cell_type": "code",
   "execution_count": 13,
   "id": "34d4e901",
   "metadata": {},
   "outputs": [],
   "source": [
    "import torch\n",
    "import torch.nn as nn\n",
    "from torch.utils.data import Dataset, DataLoader, random_split\n",
    "from sklearn.metrics import f1_score, classification_report\n",
    "import numpy as np\n",
    "\n",
    "features = []\n",
    "labels = []\n",
    "mask_positions = []\n",
    "\n",
    "for sample in dataset_masked:\n",
    "    sample_features = []\n",
    "    sample_labels = []\n",
    "    sample_mask_pos = []\n",
    "    for i, (word_id, pos_id) in enumerate(sample):\n",
    "        sample_features.append(word_id)\n",
    "        if pos_id == 17:\n",
    "            sample_labels.append(17)\n",
    "            sample_mask_pos.append(i)\n",
    "        else:\n",
    "            sample_labels.append(pos_id)\n",
    "            \n",
    "    features.append(sample_features)\n",
    "    labels.append(sample_labels)\n",
    "    mask_positions.append(sample_mask_pos)\n",
    "\n",
    "max_len = max(len(f) for f in features)\n",
    "padded_features = [seq + [0] * (max_len - len(seq)) for seq in features]\n",
    "padded_labels = [seq + [-100] * (max_len - len(seq)) for seq in labels]\n",
    "\n",
    "features_tensor = torch.LongTensor(padded_features)\n",
    "labels_tensor = torch.LongTensor(padded_labels)"
   ]
  },
  {
   "cell_type": "code",
   "execution_count": 14,
   "id": "9a6f3215",
   "metadata": {},
   "outputs": [],
   "source": [
    "class POSDataset(Dataset):\n",
    "    def __init__(self, features, labels) -> None:\n",
    "        self.features = features\n",
    "        self.labels = labels\n",
    "    \n",
    "    def __len__(self):\n",
    "        return len(self.features)\n",
    "    \n",
    "    def __getitem__(self, idx):\n",
    "        return self.features[idx], self.labels[idx]\n",
    "    \n",
    "dataset = POSDataset(features_tensor, labels_tensor)\n",
    "train_size = int(0.8 * len(dataset))\n",
    "test_size = len(dataset) - train_size\n",
    "train_dataset, test_dataset = random_split(dataset, [train_size, test_size])\n",
    "\n",
    "batch_size = 64\n",
    "train_loader = DataLoader(train_dataset, batch_size=batch_size, shuffle=True)\n",
    "test_loader = DataLoader(test_dataset, batch_size=batch_size, shuffle=False)"
   ]
  },
  {
   "cell_type": "code",
   "execution_count": 15,
   "id": "a27d6862",
   "metadata": {},
   "outputs": [],
   "source": [
    "class POSModel(nn.Module):\n",
    "    def __init__(self, vocab_size, embedding_dim, hidden_size, output_size):\n",
    "        super(POSModel, self).__init__()\n",
    "        self.embedding = nn.Embedding(vocab_size, embedding_dim)\n",
    "        self.lstm = nn.LSTM(embedding_dim, hidden_size, batch_first=True)\n",
    "        self.fc = nn.Linear(hidden_size, output_size)\n",
    "    \n",
    "    def forward(self, x):\n",
    "        x = self.embedding(x)\n",
    "        x, _ = self.lstm(x)\n",
    "        x = self.fc(x)\n",
    "        return x"
   ]
  },
  {
   "cell_type": "code",
   "execution_count": 23,
   "id": "0d3ae17e",
   "metadata": {},
   "outputs": [
    {
     "name": "stdout",
     "output_type": "stream",
     "text": [
      "Using device: cuda\n"
     ]
    },
    {
     "name": "stderr",
     "output_type": "stream",
     "text": [
      "100%|██████████| 1127/1127 [00:18<00:00, 60.25it/s]\n"
     ]
    },
    {
     "name": "stdout",
     "output_type": "stream",
     "text": [
      "Epoch [1/5], Loss: 0.4955, Test Loss: 0.5550\n"
     ]
    },
    {
     "name": "stderr",
     "output_type": "stream",
     "text": [
      "100%|██████████| 1127/1127 [00:18<00:00, 61.36it/s]\n"
     ]
    },
    {
     "name": "stdout",
     "output_type": "stream",
     "text": [
      "Epoch [2/5], Loss: 0.3646, Test Loss: 0.4159\n"
     ]
    },
    {
     "name": "stderr",
     "output_type": "stream",
     "text": [
      "100%|██████████| 1127/1127 [00:18<00:00, 60.77it/s]\n"
     ]
    },
    {
     "name": "stdout",
     "output_type": "stream",
     "text": [
      "Epoch [3/5], Loss: 0.3235, Test Loss: 0.3671\n"
     ]
    },
    {
     "name": "stderr",
     "output_type": "stream",
     "text": [
      "100%|██████████| 1127/1127 [00:18<00:00, 61.34it/s]\n"
     ]
    },
    {
     "name": "stdout",
     "output_type": "stream",
     "text": [
      "Epoch [4/5], Loss: 0.2299, Test Loss: 0.3495\n"
     ]
    },
    {
     "name": "stderr",
     "output_type": "stream",
     "text": [
      "100%|██████████| 1127/1127 [00:18<00:00, 61.60it/s]\n"
     ]
    },
    {
     "name": "stdout",
     "output_type": "stream",
     "text": [
      "Epoch [5/5], Loss: 0.2066, Test Loss: 0.3460\n"
     ]
    }
   ],
   "source": [
    "vocab_size = len(words)\n",
    "embedding_dim = 128\n",
    "hidden_size = 64\n",
    "output_size = len(pos_tags)\n",
    "learning_rate = 0.001\n",
    "epochs = 5\n",
    "\n",
    "device = torch.device('cuda' if torch.cuda.is_available() else 'cpu')\n",
    "print(f\"Using device: {device}\")\n",
    "\n",
    "model = POSModel(vocab_size, embedding_dim, hidden_size, output_size).to(device)\n",
    "criterion = nn.CrossEntropyLoss()\n",
    "optimizer = torch.optim.Adam(model.parameters(), lr=learning_rate)\n",
    "\n",
    "train_losses = []\n",
    "test_losses = []\n",
    "\n",
    "for epoch in range(epochs):\n",
    "    model.train()  # Ensure model is in training mode\n",
    "    for batch_features, batch_labels in tqdm(train_loader):\n",
    "        batch_features = batch_features.to(device)\n",
    "        batch_labels = batch_labels.to(device)\n",
    "\n",
    "        optimizer.zero_grad()\n",
    "        outputs = model(batch_features)\n",
    "        loss = criterion(outputs.view(-1, output_size), batch_labels.view(-1))\n",
    "        loss.backward()\n",
    "        optimizer.step()\n",
    "\n",
    "    model.eval()\n",
    "    test_loss = 0.0\n",
    "    all_preds = []\n",
    "    all_labels = []\n",
    "    with torch.no_grad():\n",
    "        for test_features, test_labels in test_loader:\n",
    "            test_features = test_features.to(device)\n",
    "            test_labels = test_labels.to(device)\n",
    "\n",
    "            outputs = model(test_features)\n",
    "            test_loss += criterion(outputs.view(-1, output_size), test_labels.view(-1)).item()\n",
    "\n",
    "    test_loss /= len(test_loader)  # Average test loss\n",
    "    train_losses.append(loss.item())\n",
    "    test_losses.append(test_loss)\n",
    "    print(f'Epoch [{epoch+1}/{epochs}], Loss: {loss.item():.4f}, Test Loss: {test_loss:.4f}')"
   ]
  },
  {
   "cell_type": "code",
   "execution_count": 24,
   "id": "b8d28aaa",
   "metadata": {},
   "outputs": [
    {
     "data": {
      "image/png": "[encoded data removed]",
      "text/plain": [
       "<Figure size 1000x500 with 1 Axes>"
      ]
     },
     "metadata": {},
     "output_type": "display_data"
    }
   ],
   "source": [
    "import matplotlib.pyplot as plt\n",
    "\n",
    "plt.figure(figsize=(10, 5))\n",
    "plt.plot(train_losses, label='Train Loss')\n",
    "plt.plot(test_losses, label='Test Loss')\n",
    "plt.xlabel('Epochs')\n",
    "plt.ylabel('Loss')\n",
    "plt.title('Training and Test Loss')\n",
    "plt.legend()\n",
    "plt.show()"
   ]
  },
  {
   "cell_type": "code",
   "execution_count": 39,
   "id": "f05df0c5",
   "metadata": {},
   "outputs": [
    {
     "name": "stdout",
     "output_type": "stream",
     "text": [
      "tensor([10,  8, 12], device='cuda:0')\n",
      "10\n"
     ]
    },
    {
     "ename": "IndexError",
     "evalue": "list index out of range",
     "output_type": "error",
     "traceback": [
      "\u001b[31m---------------------------------------------------------------------------\u001b[39m",
      "\u001b[31mIndexError\u001b[39m                                Traceback (most recent call last)",
      "\u001b[36mCell\u001b[39m\u001b[36m \u001b[39m\u001b[32mIn[39]\u001b[39m\u001b[32m, line 15\u001b[39m\n\u001b[32m     10\u001b[39m             \u001b[38;5;28mprint\u001b[39m(pos_tags[i.item()], end=\u001b[33m'\u001b[39m\u001b[33m \u001b[39m\u001b[33m'\u001b[39m)\n\u001b[32m     11\u001b[39m     \u001b[38;5;66;03m#     predicted_pos = [pos_tags[p.item()] for p in predicted[0]]\u001b[39;00m\n\u001b[32m     12\u001b[39m     \u001b[38;5;66;03m# return predicted_pos\u001b[39;00m\n\u001b[32m     14\u001b[39m \u001b[38;5;28mprint\u001b[39m(\n\u001b[32m---> \u001b[39m\u001b[32m15\u001b[39m     \u001b[43mpredict\u001b[49m\u001b[43m(\u001b[49m\u001b[43m[\u001b[49m\u001b[33;43m\"\u001b[39;49m\u001b[33;43mмы\u001b[39;49m\u001b[33;43m\"\u001b[39;49m\u001b[43m,\u001b[49m\u001b[43m \u001b[49m\u001b[33;43m\"\u001b[39;49m\u001b[33;43mстали\u001b[39;49m\u001b[33;43m\"\u001b[39;49m\u001b[43m,\u001b[49m\u001b[43m \u001b[49m\u001b[33;43m\"\u001b[39;49m\u001b[33;43mстарше\u001b[39;49m\u001b[33;43m\"\u001b[39;49m\u001b[43m]\u001b[49m\u001b[43m,\u001b[49m\u001b[43m \u001b[49m\u001b[43m[\u001b[49m\u001b[33;43m\"\u001b[39;49m\u001b[33;43mPRON\u001b[39;49m\u001b[33;43m\"\u001b[39;49m\u001b[43m,\u001b[49m\u001b[43m \u001b[49m\u001b[33;43m\"\u001b[39;49m\u001b[33;43mMASK\u001b[39;49m\u001b[33;43m\"\u001b[39;49m\u001b[43m,\u001b[49m\u001b[43m \u001b[49m\u001b[33;43m\"\u001b[39;49m\u001b[33;43mADV\u001b[39;49m\u001b[33;43m\"\u001b[39;49m\u001b[43m]\u001b[49m\u001b[43m,\u001b[49m\u001b[43m \u001b[49m\u001b[43mmodel\u001b[49m\u001b[43m)\u001b[49m\n\u001b[32m     16\u001b[39m )\n",
      "\u001b[36mCell\u001b[39m\u001b[36m \u001b[39m\u001b[32mIn[39]\u001b[39m\u001b[32m, line 10\u001b[39m, in \u001b[36mpredict\u001b[39m\u001b[34m(words, pos_tags, model)\u001b[39m\n\u001b[32m      8\u001b[39m \u001b[38;5;28;01mfor\u001b[39;00m i \u001b[38;5;129;01min\u001b[39;00m predicted.squeeze(\u001b[32m0\u001b[39m):\n\u001b[32m      9\u001b[39m     \u001b[38;5;28mprint\u001b[39m(i.item())\n\u001b[32m---> \u001b[39m\u001b[32m10\u001b[39m     \u001b[38;5;28mprint\u001b[39m(\u001b[43mpos_tags\u001b[49m\u001b[43m[\u001b[49m\u001b[43mi\u001b[49m\u001b[43m.\u001b[49m\u001b[43mitem\u001b[49m\u001b[43m(\u001b[49m\u001b[43m)\u001b[49m\u001b[43m]\u001b[49m, end=\u001b[33m'\u001b[39m\u001b[33m \u001b[39m\u001b[33m'\u001b[39m)\n",
      "\u001b[31mIndexError\u001b[39m: list index out of range"
     ]
    }
   ],
   "source": [
    "def predict(words, pos_tags, model):\n",
    "    model.eval()\n",
    "    with torch.no_grad():\n",
    "        inputs = torch.LongTensor([words_ids[word] for word in words]).unsqueeze(0).to(device)\n",
    "        outputs = model(inputs)\n",
    "        _, predicted = torch.max(outputs, dim=2)\n",
    "        print(predicted.squeeze(0))\n",
    "        for i in predicted.squeeze(0):\n",
    "            print(i.item())\n",
    "            print(pos_tags[i.item()], end=' ')\n",
    "    #     predicted_pos = [pos_tags[p.item()] for p in predicted[0]]\n",
    "    # return predicted_pos\n",
    "\n",
    "print(\n",
    "    predict([\"мы\", \"стали\", \"старше\"], [\"PRON\", \"MASK\", \"ADV\"], model)\n",
    ")"
   ]
  }
 ],
 "metadata": {
  "kernelspec": {
   "display_name": "formal-langs",
   "language": "python",
   "name": "python3"
  },
  "language_info": {
   "codemirror_mode": {
    "name": "ipython",
    "version": 3
   },
   "file_extension": ".py",
   "mimetype": "text/x-python",
   "name": "python",
   "nbconvert_exporter": "python",
   "pygments_lexer": "ipython3",
   "version": "3.12.8"
  }
 },
 "nbformat": 4,
 "nbformat_minor": 5
}
